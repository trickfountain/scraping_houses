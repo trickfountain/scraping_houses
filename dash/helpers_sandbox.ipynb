{
 "cells": [
  {
   "cell_type": "code",
   "execution_count": 1,
   "metadata": {},
   "outputs": [],
   "source": [
    "import sys\n",
    "sys.path.append('/home/eric/scraping_houses/flaskApp')\n",
    "sys.path.append('/home/eric/scraping_houses')\n",
    "\n",
    "import pandas as pd\n",
    "import dash_table\n",
    "import json\n",
    "from dash.dependencies import Input, Output\n",
    "from sqlalchemy import text\n",
    "from app import db\n",
    "from app.models import Listing, Fence\n",
    "import dash\n",
    "import dash_core_components as dcc\n",
    "import dash_html_components as html\n",
    "from helpers.taxes import TaxBrackets, tax_calculator\n",
    "\n",
    "# Getting data from SQLite\n",
    "sql = text(f'''SELECT id,\n",
    "                      centris_id,\n",
    "                      category,\n",
    "                      price,\n",
    "                      geofence,\n",
    "                      potential_revenue,\n",
    "                      residential_units,\n",
    "                      commercial_units,\n",
    "                      unites_residentielles,\n",
    "                      unite_principale,\n",
    "                      centris_detail_url,\n",
    "                      broker_detail_url\n",
    "                  FROM Listings\n",
    "                  ''')\n",
    "\n",
    "df = pd.read_sql(sql, db.engine)\n",
    "df['pt_revenue'] = df.potential_revenue/df.price\n",
    "df = df.astype({'residential_units': float,\n",
    "                'commercial_units': float})\n",
    "\n",
    "df['welcome_tax'] = tax_calculator(df,\n",
    "                        TaxBrackets.welcome_tax.get('Montreal'),\n",
    "                        ).loc[:,'total']\n",
    "\n",
    "\n",
    "df['school_tax'] = tax_calculator(df,\n",
    "                        TaxBrackets.school_tax.get('Montreal'),\n",
    "                        ).loc[:,'total']\n",
    "\n",
    "df['property_tax'] = tax_calculator(df,\n",
    "                        TaxBrackets.property_tax.get('Montreal'),\n",
    "                        ).loc[:,'total']\n",
    "\n"
   ]
  },
  {
   "cell_type": "code",
   "execution_count": 2,
   "metadata": {},
   "outputs": [],
   "source": [
    "def monthly_payments(price, interest_rate=3.79, years=20):\n",
    "           \n",
    "    # Interest rate monthly\n",
    "    mrate=interest_rate/100/12\n",
    "    nper=years*12\n",
    "    monthly_payment = (price*(mrate*(1+mrate)**nper)/(((1+mrate)**nper)-1))\n",
    "    \n",
    "    return monthly_payment"
   ]
  },
  {
   "cell_type": "code",
   "execution_count": 3,
   "metadata": {},
   "outputs": [],
   "source": [
    "renos= 10000\n",
    "df['Total upfront'] = df.apply(lambda x: x.price+x.welcome_tax+renos, axis=1)\n",
    "df['Monthly Payment'] = df.apply(lambda x: monthly_payments(x['Total upfront']), axis=1)\n",
    "df['Yearly revenue'] = df.apply(lambda x: x.potential_revenue-(x.school_tax+x.property_tax), axis=1)\n",
    "df['Monthly cashflow'] = df.apply(lambda x: x['Yearly revenue']/12 - x['Monthly Payment'], axis=1)"
   ]
  },
  {
   "cell_type": "code",
   "execution_count": 6,
   "metadata": {},
   "outputs": [
    {
     "data": {
      "text/plain": [
       "28941265"
      ]
     },
     "execution_count": 6,
     "metadata": {},
     "output_type": "execute_result"
    }
   ],
   "source": [
    "selected_row = df.loc[3,:]\n",
    "selected_row.centris_id"
   ]
  },
  {
   "cell_type": "code",
   "execution_count": 7,
   "metadata": {},
   "outputs": [
    {
     "data": {
      "text/plain": [
       "Index(['id', 'centris_id', 'category', 'price', 'geofence',\n",
       "       'potential_revenue', 'residential_units', 'commercial_units',\n",
       "       'unites_residentielles', 'unite_principale', 'centris_detail_url',\n",
       "       'broker_detail_url', 'pt_revenue', 'welcome_tax', 'school_tax',\n",
       "       'property_tax', 'Total upfront', 'Monthly Payment', 'Yearly revenue',\n",
       "       'Monthly cashflow'],\n",
       "      dtype='object')"
      ]
     },
     "execution_count": 7,
     "metadata": {},
     "output_type": "execute_result"
    }
   ],
   "source": [
    "selected_row.index"
   ]
  },
  {
   "cell_type": "code",
   "execution_count": null,
   "metadata": {},
   "outputs": [],
   "source": []
  }
 ],
 "metadata": {
  "kernelspec": {
   "display_name": "Python 3",
   "language": "python",
   "name": "python3"
  },
  "language_info": {
   "codemirror_mode": {
    "name": "ipython",
    "version": 3
   },
   "file_extension": ".py",
   "mimetype": "text/x-python",
   "name": "python",
   "nbconvert_exporter": "python",
   "pygments_lexer": "ipython3",
   "version": "3.6.8"
  }
 },
 "nbformat": 4,
 "nbformat_minor": 2
}
